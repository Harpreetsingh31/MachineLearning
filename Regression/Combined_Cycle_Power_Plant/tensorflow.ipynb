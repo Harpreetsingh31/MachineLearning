{
 "cells": [
  {
   "cell_type": "code",
   "execution_count": 2,
   "metadata": {},
   "outputs": [
    {
     "name": "stderr",
     "output_type": "stream",
     "text": [
      "c:\\users\\harpreet singh\\appdata\\local\\programs\\python\\python36-64\\lib\\site-packages\\h5py\\__init__.py:36: FutureWarning: Conversion of the second argument of issubdtype from `float` to `np.floating` is deprecated. In future, it will be treated as `np.float64 == np.dtype(float).type`.\n",
      "  from ._conv import register_converters as _register_converters\n"
     ]
    }
   ],
   "source": [
    "import pandas as pd\n",
    "import matplotlib.pyplot as plt\n",
    "import numpy as np\n",
    "from sklearn.preprocessing import scale\n",
    "from sklearn.metrics import mean_squared_error\n",
    "from sklearn.model_selection import train_test_split\n",
    "import tensorflow as tf\n",
    "from pandas.plotting import scatter_matrix"
   ]
  },
  {
   "cell_type": "code",
   "execution_count": 3,
   "metadata": {},
   "outputs": [
    {
     "name": "stdout",
     "output_type": "stream",
     "text": [
      "[[480.48]\n",
      " [445.75]\n",
      " [438.76]\n",
      " ...\n",
      " [465.96]\n",
      " [450.93]\n",
      " [451.67]]\n"
     ]
    }
   ],
   "source": [
    "df = pd.read_csv('ccpp.csv')\n",
    "df['bias'] =1 #adding bias element\n",
    "\n",
    "#Inputs and Output\n",
    "X = scale(np.array(df.drop(['PE'],1)))\n",
    "X[:,4]=1 #adding bias element\n",
    "y = np.array(df['PE'])\n",
    "y = y.reshape((y.shape[0],1)) #reshaping n, to n,1\n",
    "\n",
    "\n",
    "X_train, X_test, y_train, y_test = train_test_split(X,y,test_size = .20,random_state = 42)\n",
    "#scatter_matrix(df,alpha=0.2,figsize=(6,6),diagonal='kde')"
   ]
  },
  {
   "cell_type": "code",
   "execution_count": 259,
   "metadata": {},
   "outputs": [],
   "source": [
    "#for single feature\n",
    "def linear_regression():\n",
    "    x = tf.placeholder(tf.float32,name = 'x')\n",
    "    y = tf.placeholder(tf.float32,name = 'y')\n",
    "    \n",
    "    with tf.variable_scope('lreg') as scope:\n",
    "        w = tf.Variable(np.random.normal(),name='w')\n",
    "        b = tf.Variable(np.random.normal(),name='b')\n",
    "        y_pred = tf.multiply(w,x)+b\n",
    "        \n",
    "        loss = tf.reduce_mean(tf.square(y_pred - y))\n",
    "        \n",
    "    return x,y,y_pred,loss,w\n",
    "\n",
    "    #plt.figure(1)\n",
    "    #plt.scatter(X_train,y_train)\n",
    "    #plt.plot(X_train,y_train)\n",
    "    #plt.savefig('plot.png') "
   ]
  },
  {
   "cell_type": "code",
   "execution_count": 260,
   "metadata": {},
   "outputs": [],
   "source": [
    "def multiVlinear_regression():\n",
    "    n = X_train.shape[1]\n",
    "\n",
    "    x = tf.placeholder(tf.float32,[None,n],name='x')\n",
    "    y = tf.placeholder(tf.float32,[None,1],name='y')\n",
    "    \n",
    "    with tf.variable_scope('lreg') as scope:\n",
    "        w = tf.Variable(tf.zeros((1,n)),name='w')\n",
    "        y_pred = tf.multiply(w,x)\n",
    "        \n",
    "        loss = tf.reduce_mean(tf.square(y_pred - y))\n",
    "        \n",
    "    return x,y,y_pred,loss,w"
   ]
  },
  {
   "cell_type": "code",
   "execution_count": 284,
   "metadata": {},
   "outputs": [],
   "source": [
    "def run(epochs):\n",
    "    \n",
    "    x,y,y_pred,loss,w = multilinear_regression()\n",
    "    optimizer = tf.train.GradientDescentOptimizer(0.001).minimize(loss)\n",
    "    cost = np.zeros(epochs)\n",
    "\n",
    "    with tf.Session() as session:\n",
    "        \n",
    "        init = tf.global_variables_initializer()\n",
    "        session.run(init)\n",
    "    \n",
    "        feed_dict = {x:X_train,y:y_train}\n",
    "        for i in range(epochs):\n",
    "            loss_val,i = session.run([loss,optimizer],feed_dict)\n",
    "            #print('loss:',loss_val.mean())  \n",
    "            cost[i]=loss_val.mean()\n",
    "        #y_pred_batch = session.run(y_pred,{x:X_train})\n",
    "        \n",
    "        thetas = session.run(w)\n",
    "    return thetas,cost\n",
    "   "
   ]
  },
  {
   "cell_type": "code",
   "execution_count": 289,
   "metadata": {},
   "outputs": [
    {
     "name": "stdout",
     "output_type": "stream",
     "text": [
      "Estimated parameters:  [[-16.180649 -14.529609   6.597295  11.194056 454.24762 ]]\n"
     ]
    },
    {
     "data": {
      "image/png": "[encoded data removed]",
      "text/plain": [
       "<matplotlib.figure.Figure at 0x20cf76757f0>"
      ]
     },
     "metadata": {},
     "output_type": "display_data"
    }
   ],
   "source": [
    "if __name__=='__main__':\n",
    "    epochs = 20000\n",
    "    thetas,cost=run(epochs) \n",
    "    print('Estimated parameters: ',thetas)\n",
    "    fig, ax = plt.subplots(figsize=(12,8))  \n",
    "    ax.plot(np.arange(epochs), cost, 'r')  \n",
    "    ax.set_xlabel('Iterations')  \n",
    "    ax.set_ylabel('Cost')  \n",
    "    ax.set_title('Error vs. Training Epoch') "
   ]
  },
  {
   "cell_type": "code",
   "execution_count": 283,
   "metadata": {},
   "outputs": [],
   "source": [
    "#Scikit learn\n",
    "#Coefficients: [-14.73251595  -2.98326107   0.34593379  -2.30884968]\n",
    "#Intercept: 454.4289437515408"
   ]
  },
  {
   "cell_type": "code",
   "execution_count": 290,
   "metadata": {},
   "outputs": [],
   "source": [
    "def prediction(X, Theta):\n",
    "    y_pred = np.dot(X,np.transpose(Theta))\n",
    "\n",
    "    return y_pred"
   ]
  },
  {
   "cell_type": "code",
   "execution_count": 291,
   "metadata": {},
   "outputs": [],
   "source": [
    "def compute_cost(X, y, parameters):\n",
    "\n",
    "    return np.sum(np.square(prediction(X, parameters) - y)) / (2 * len(y))"
   ]
  },
  {
   "cell_type": "code",
   "execution_count": 292,
   "metadata": {},
   "outputs": [
    {
     "name": "stdout",
     "output_type": "stream",
     "text": [
      "302.17957020829317\n"
     ]
    }
   ],
   "source": [
    "testpred = prediction(X_test, thetas)\n",
    "accuracy = compute_cost(X_test,y_test,thetas)\n",
    "print(accuracy)"
   ]
  },
  {
   "cell_type": "code",
   "execution_count": null,
   "metadata": {},
   "outputs": [],
   "source": [
    "#reference: soonhin khor\n",
    "#https://www.youtube.com/watch?v=F8g_6TXKlxw"
   ]
  }
 ],
 "metadata": {
  "kernelspec": {
   "display_name": "Python 3",
   "language": "python",
   "name": "python3"
  },
  "language_info": {
   "codemirror_mode": {
    "name": "ipython",
    "version": 3
   },
   "file_extension": ".py",
   "mimetype": "text/x-python",
   "name": "python",
   "nbconvert_exporter": "python",
   "pygments_lexer": "ipython3",
   "version": "3.6.4"
  }
 },
 "nbformat": 4,
 "nbformat_minor": 2
}
