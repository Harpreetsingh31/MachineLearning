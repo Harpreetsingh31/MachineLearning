{
 "cells": [
  {
   "cell_type": "code",
   "execution_count": null,
   "metadata": {},
   "outputs": [],
   "source": [
    "#For GP Regression\n",
    "from sklearn.gaussian_process import GaussianProcessRegressor\n",
    "from sklearn.gaussian_process.kernels \\\n",
    "    import RBF, ConstantKernel, WhiteKernel, RationalQuadratic, ExpSineSquared\n",
    "from pandas.plotting import scatter_matrix\n",
    "import GPy\n",
    "df.head()"
   ]
  },
  {
   "cell_type": "code",
   "execution_count": null,
   "metadata": {},
   "outputs": [],
   "source": [
    "scatter_matrix(df)\n",
    "plt.show()\n",
    "\n",
    "#AT as the only input\n",
    "#X1 = scale(np.array(df.drop(['PE','V','AP','RH'],1)))"
   ]
  },
  {
   "cell_type": "code",
   "execution_count": null,
   "metadata": {},
   "outputs": [],
   "source": [
    "#length_scale=10,length_scale_bounds=(1e-2,1e2)\n",
    "\n",
    "#Kernel = ConstantKernel(10,(1e-2,1e2))*RBF(10,(1e-2,1e2))\n",
    "\n",
    "#clf1 = GaussianProcessRegressor(kernel=Kernel,n_restarts_optimizer=3)\n",
    "#clf1.fit(X_train,y_train)\n",
    "#y_pred, sigma = clf1.predict(X_test,return_std=True)\n",
    "\n",
    "theta = np.array([0.5,0.25,0.1]) # GP4\n",
    "\n",
    "def kernel2(data1,data2,theta,wantderiv=True,measnoise=1.):\n",
    "\t# Uses exp(theta) to ensure positive hyperparams\n",
    "\ttheta = np.squeeze(theta)\n",
    "\ttheta = np.exp(theta)\n",
    "\t# Squared exponential\n",
    "\tif np.ndim(data1) == 1:\n",
    "\t\td1 = np.shape(data1)[0]\n",
    "\t\tn = 1\n",
    "\t\tdata1 = data1*np.ones((d1,1))\n",
    "\t\tdata2 = data2*np.ones((np.shape(data2)[0],1))\n",
    "\telse:\n",
    "\t\t(d1,n) = np.shape(data1)\n",
    "\n",
    "\td2 = np.shape(data2)[0]\n",
    "\tsumxy = np.zeros((d1,d2))\n",
    "\tfor d in range(n):\n",
    "\t\tD1 = np.transpose([data1[:,d]]) * np.ones((d1,d2))\n",
    "\t\tD2 = [data2[:,d]] * np.ones((d1,d2))\n",
    "\t\tsumxy += (D1-D2)**2*theta[d+1]\n",
    "\n",
    "\tk = theta[0] * np.exp(-0.5*sumxy) \n",
    "\t#k = theta[0]**2 * np.exp(-sumxy/(2.0*theta[1]**2)) \n",
    "\n",
    "\t#print k\n",
    "\t#print measnoise*theta[2]**2*np.eye(d1,d2)\n",
    "\tif wantderiv:\n",
    "\t\tK = np.zeros((d1,d2,len(theta)+1))\n",
    "\t\tK[:,:,0] = k + measnoise*theta[2]*np.eye(d1,d2)\n",
    "\t\tK[:,:,1] = k \n",
    "\t\tK[:,:,2] = -0.5*k*sumxy\n",
    "\t\tK[:,:,3] = theta[2]*np.eye(d1,d2)\n",
    "\t\treturn K\n",
    "\telse:\t\n",
    "\t\treturn k + measnoise*theta[2]*np.eye(d1,d2)\n",
    "    "
   ]
  },
  {
   "cell_type": "code",
   "execution_count": null,
   "metadata": {},
   "outputs": [],
   "source": [
    "k = kernel2(X_train,X_train,theta,wantderiv=False)\n",
    "kstar = kernel2(X_train,X_test,theta,wantderiv=False)\n",
    "kstar = np.squeeze(kstar)\n",
    "kstarstar = kernel2(X_test,X_test,theta,wantderiv=False)\n",
    "kstarstar = np.squeeze(kstarstar)"
   ]
  },
  {
   "cell_type": "code",
   "execution_count": null,
   "metadata": {},
   "outputs": [],
   "source": [
    "L = np.linalg.cholesky(k)\n",
    "beta = np.linalg.solve(L.transpose(), np.linalg.solve(L,y_train))\n"
   ]
  },
  {
   "cell_type": "code",
   "execution_count": null,
   "metadata": {},
   "outputs": [],
   "source": [
    "#predict\n",
    "f = np.dot(kstar.transpose(), beta)\n",
    "v = np.linalg.solve(L,kstar)\n",
    "V = kstarstar-np.dot(v.transpose(),v) "
   ]
  },
  {
   "cell_type": "code",
   "execution_count": null,
   "metadata": {},
   "outputs": [],
   "source": [
    "#log posterior\n",
    "logp = -1*(-0.5*np.dot(y_train.transpose(),beta) - np.sum(np.log(np.diag(L))) - np.shape(X_train)[0] /2. * np.log(2*np.pi))"
   ]
  },
  {
   "cell_type": "code",
   "execution_count": null,
   "metadata": {},
   "outputs": [],
   "source": [
    "#y_train.reshape(7654,1)\n",
    "#Xtest.shape = (len(Xtest),1)\n",
    "\n",
    "invL = np.linalg.inv(L)\n",
    "invk = np.dot(invL.T,invL)\n",
    "    \n",
    "#mean = np.dot(kstar,np.dot(invk,y_train))\n",
    "#var = kstarstar - np.diag(np.dot(kstar,np.dot(invk,kstar.T)))\n",
    "#var = np.reshape(var,(100,1))"
   ]
  },
  {
   "cell_type": "code",
   "execution_count": null,
   "metadata": {},
   "outputs": [],
   "source": []
  }
 ],
 "metadata": {
  "kernelspec": {
   "display_name": "Python 3",
   "language": "python",
   "name": "python3"
  },
  "language_info": {
   "codemirror_mode": {
    "name": "ipython",
    "version": 3
   },
   "file_extension": ".py",
   "mimetype": "text/x-python",
   "name": "python",
   "nbconvert_exporter": "python",
   "pygments_lexer": "ipython3",
   "version": "3.6.4"
  }
 },
 "nbformat": 4,
 "nbformat_minor": 2
}
