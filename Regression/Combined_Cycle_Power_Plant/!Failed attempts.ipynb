{
 "cells": [
  {
   "cell_type": "code",
   "execution_count": 1,
   "metadata": {},
   "outputs": [],
   "source": [
    "def gradientDescent(X, Y, parameters, learning_rate, iters):\n",
    "   # T = np.zeros(len(theta))\n",
    "    m = Y.shape[0]\n",
    "    loss = np.zeros(iters)\n",
    "\n",
    "    for i in range(iters):\n",
    "        y_pred = prediction(X,parameters)\n",
    "        cost = compute_cost(y_pred, Y)\n",
    "        #print(cost)\n",
    "\n",
    "        for s in range(parameters.shape[1]):\n",
    "            print(s)\n",
    "            divL = np.sum(cost*X[:,s])/m\n",
    "            parameters[s] = parameters[s] - learning_rate *divL\n",
    "            print(divL)\n",
    "        #theta = T\n",
    "        loss[i] = compute_cost(y_pred,Y)\n",
    "    \n",
    "    return parameters, loss"
   ]
  },
  {
   "cell_type": "code",
   "execution_count": 2,
   "metadata": {},
   "outputs": [
    {
     "ename": "NameError",
     "evalue": "name 'X_train' is not defined",
     "output_type": "error",
     "traceback": [
      "\u001b[1;31m---------------------------------------------------------------------------\u001b[0m",
      "\u001b[1;31mNameError\u001b[0m                                 Traceback (most recent call last)",
      "\u001b[1;32m<ipython-input-2-4e3995015118>\u001b[0m in \u001b[0;36m<module>\u001b[1;34m()\u001b[0m\n\u001b[0;32m      1\u001b[0m \u001b[0mT\u001b[0m \u001b[1;33m=\u001b[0m \u001b[1;33m[\u001b[0m\u001b[1;33m-\u001b[0m\u001b[1;36m10\u001b[0m\u001b[1;33m,\u001b[0m\u001b[1;33m-\u001b[0m\u001b[1;36m10\u001b[0m\u001b[1;33m,\u001b[0m\u001b[1;36m1\u001b[0m\u001b[1;33m,\u001b[0m\u001b[1;36m1\u001b[0m\u001b[1;33m]\u001b[0m \u001b[1;31m#Parameters\u001b[0m\u001b[1;33m\u001b[0m\u001b[0m\n\u001b[0;32m      2\u001b[0m \u001b[0mlearning_rate\u001b[0m \u001b[1;33m=\u001b[0m \u001b[1;36m0.2\u001b[0m\u001b[1;33m\u001b[0m\u001b[0m\n\u001b[1;32m----> 3\u001b[1;33m \u001b[0mm\u001b[0m \u001b[1;33m=\u001b[0m \u001b[0mX_train\u001b[0m\u001b[1;33m.\u001b[0m\u001b[0mshape\u001b[0m\u001b[1;33m[\u001b[0m\u001b[1;36m0\u001b[0m\u001b[1;33m]\u001b[0m \u001b[1;31m#no.ofExamples\u001b[0m\u001b[1;33m\u001b[0m\u001b[0m\n\u001b[0m\u001b[0;32m      4\u001b[0m \u001b[1;33m\u001b[0m\u001b[0m\n\u001b[0;32m      5\u001b[0m \u001b[1;31m#vector approach\u001b[0m\u001b[1;33m\u001b[0m\u001b[1;33m\u001b[0m\u001b[0m\n",
      "\u001b[1;31mNameError\u001b[0m: name 'X_train' is not defined"
     ]
    }
   ],
   "source": [
    "T = [-10,-10,1,1] #Parameters\n",
    "learning_rate = 0.2\n",
    "m = X_train.shape[0] #no.ofExamples\n",
    "\n",
    "#vector approach\n",
    "\n",
    "for n in range(0,10):\n",
    "    y_pred = np.dot(T,X_train.T)\n",
    "    for s in range(0,X_train.shape[1]):\n",
    "        divL = (np.sum((y_pred-y_train)*X_train[:,s]))/m\n",
    "        T[s] = T[s] - learning_rate *divL\n",
    "    print(T)\n",
    "    loss = np.sum((np.dot(T,X_train.T)-y_train)**2)/(2*m)\n",
    "    print(loss) \n",
    "    n=n+1\n",
    "\n",
    "print(loss)\n",
    "print(T)"
   ]
  },
  {
   "cell_type": "code",
   "execution_count": null,
   "metadata": {},
   "outputs": [],
   "source": [
    "def compute_cost(y_pred, Y):\n",
    "\n",
    "    \"\"\"\n",
    "    Implement the cost function defined by equation (7).\n",
    "    Arguments:\n",
    "    y_pred -- vector corresponding to your label predictions, shape (1, number of examples)\n",
    "\n",
    "    Y -- true \"label\" vector, shape (1, number of examples)\n",
    "\n",
    "    Returns:\n",
    "    cost -- least-square\n",
    "    np.sum((y_pred-Y)**2)/(2*m)\n",
    "    \"\"\"\n",
    "    \n",
    "    m = Y.shape[0]\n",
    "    Y = Y.reshape((Y.shape[0], 1))\n",
    "    cost = np.sum((y_pred-Y)**2)/(2*m)\n",
    "\n",
    "    return cost"
   ]
  },
  {
   "cell_type": "code",
   "execution_count": null,
   "metadata": {},
   "outputs": [],
   "source": []
  }
 ],
 "metadata": {
  "kernelspec": {
   "display_name": "Python 3",
   "language": "python",
   "name": "python3"
  },
  "language_info": {
   "codemirror_mode": {
    "name": "ipython",
    "version": 3
   },
   "file_extension": ".py",
   "mimetype": "text/x-python",
   "name": "python",
   "nbconvert_exporter": "python",
   "pygments_lexer": "ipython3",
   "version": "3.6.4"
  }
 },
 "nbformat": 4,
 "nbformat_minor": 2
}
