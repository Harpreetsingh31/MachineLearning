{
 "cells": [
  {
   "cell_type": "code",
   "execution_count": 315,
   "metadata": {},
   "outputs": [],
   "source": [
    "import pandas as pd\n",
    "import matplotlib.pyplot as plt\n",
    "import numpy as np\n",
    "from sklearn.model_selection import train_test_split\n",
    "from sklearn.preprocessing import scale\n",
    "from scipy.optimize import minimize"
   ]
  },
  {
   "cell_type": "code",
   "execution_count": 316,
   "metadata": {},
   "outputs": [
    {
     "name": "stderr",
     "output_type": "stream",
     "text": [
      "c:\\users\\harpreet singh\\appdata\\local\\programs\\python\\python36-64\\lib\\site-packages\\sklearn\\utils\\validation.py:475: DataConversionWarning: Data with input dtype int64 was converted to float64 by the scale function.\n",
      "  warnings.warn(msg, DataConversionWarning)\n"
     ]
    }
   ],
   "source": [
    "df = pd.read_csv('breast-cancer-wisconsin.csv')\n",
    "df.replace('?',-99999,inplace=True)\n",
    "df.drop(['id'],1,inplace=True)\n",
    "\n",
    "X  = scale(np.array(df.drop(['class','bare_nuclei'],1)))\n",
    "y2 = (np.array(df['class'])/2)-1\n",
    "y2 = y2.reshape((y2.shape[0],1))\n",
    "\n",
    "X_train, X_test, y_train, y_test = train_test_split(X,y2,test_size = .20,random_state = 42)"
   ]
  },
  {
   "cell_type": "code",
   "execution_count": 317,
   "metadata": {},
   "outputs": [],
   "source": [
    "def initialize_parameters(n_x):\n",
    "    \"\"\"\n",
    "    Argument:\n",
    "    n_x -- size of the input\n",
    "    \n",
    "    Returns:\n",
    "    parameters -- python dictionary containing your parameters:\n",
    "\n",
    "    T --  theta array of shape (n_x+1,1)\n",
    "    \"\"\"\n",
    "    np.random.seed(1)\n",
    "    T = np.random.randn(n_x,1)*0.01\n",
    "    \n",
    "    return T"
   ]
  },
  {
   "cell_type": "code",
   "execution_count": 318,
   "metadata": {},
   "outputs": [],
   "source": [
    "def sigmoid(z):\n",
    "\n",
    "    return 1 / (1 + np.exp(-z))"
   ]
  },
  {
   "cell_type": "code",
   "execution_count": 319,
   "metadata": {},
   "outputs": [],
   "source": [
    "def cost(X, y, theta):\n",
    "    m = X.shape[0]\n",
    "    y_pred = sigmoid(np.dot(X,theta))\n",
    "    \n",
    "    return (1 / m) * (-np.log(y_pred).T.dot(y) - np.log(1 - y_pred).T.dot(1 - y))"
   ]
  },
  {
   "cell_type": "code",
   "execution_count": 320,
   "metadata": {},
   "outputs": [],
   "source": [
    "def update_weights(X, y, theta,lr):\n",
    "    m = X.shape[0]\n",
    "    y_pred = sigmoid(np.dot(X,theta))\n",
    "    \n",
    "    gradient = (np.dot(X.T,  y_pred - y)/m)*lr\n",
    "    theta = theta - gradient\n",
    "    \n",
    "    return theta\n"
   ]
  },
  {
   "cell_type": "code",
   "execution_count": 321,
   "metadata": {},
   "outputs": [],
   "source": [
    "def train(X, y, theta, lr, iters):\n",
    "\n",
    "    loss = np.zeros(iters)\n",
    "    for i in range(iters):\n",
    "        theta = update_weights(X, y, theta, lr)\n",
    "        \n",
    "        #Calculate error for auditing purposes\n",
    "        loss[i] = cost(X,y,theta)\n",
    "\n",
    "    return theta, loss"
   ]
  },
  {
   "cell_type": "code",
   "execution_count": 322,
   "metadata": {},
   "outputs": [
    {
     "name": "stdout",
     "output_type": "stream",
     "text": [
      "[[0.22876725]\n",
      " [0.22871539]\n",
      " [0.23570254]\n",
      " [0.188081  ]\n",
      " [0.20497924]\n",
      " [0.20553446]\n",
      " [0.21722141]\n",
      " [0.10846444]]\n"
     ]
    },
    {
     "data": {
      "image/png": "[encoded data removed]",
      "text/plain": [
       "<matplotlib.figure.Figure at 0x29dac364978>"
      ]
     },
     "metadata": {},
     "output_type": "display_data"
    }
   ],
   "source": [
    "parameters = initialize_parameters(X_train.shape[1])\n",
    "iterations = 1000\n",
    "learning_rate = 0.001\n",
    "\n",
    "parameters, loss =  train(X_train, y_train,parameters,learning_rate, iterations)\n",
    "\n",
    "fig, ax = plt.subplots(figsize=(12,8))  \n",
    "ax.plot(np.arange(iterations), loss, 'r')  \n",
    "ax.set_xlabel('Iterations')  \n",
    "ax.set_ylabel('Cost')  \n",
    "ax.set_title('Error vs. Training Epoch') \n",
    "\n",
    "print(parameters)\n",
    "#Scikit learn\n",
    "#Coefficients: [[0.31242254 0.10996486 0.44464014 0.18344483 0.04387358 0.31652595 0.1017104  0.13944887]]\n",
    "#Intercept: [-6.1653044]"
   ]
  },
  {
   "cell_type": "code",
   "execution_count": 323,
   "metadata": {},
   "outputs": [],
   "source": [
    "def predict(theta, X, threshold=0.5):\n",
    "    p = sigmoid(np.dot(X,theta)) >= threshold\n",
    "\n",
    "    return(p.astype('int'))"
   ]
  },
  {
   "cell_type": "code",
   "execution_count": 324,
   "metadata": {},
   "outputs": [],
   "source": [
    "def accuracy(predicted_labels, actual_labels):\n",
    "\n",
    "    diff = predicted_labels - actual_labels\n",
    "\n",
    "    return 1.0 - (float(np.count_nonzero(diff)) / len(diff))"
   ]
  },
  {
   "cell_type": "code",
   "execution_count": 325,
   "metadata": {},
   "outputs": [
    {
     "name": "stdout",
     "output_type": "stream",
     "text": [
      "Our score:  0.9642857142857143\n"
     ]
    }
   ],
   "source": [
    "classifications = predict(parameters, X_test, threshold=0.5)\n",
    "\n",
    "our_acc = accuracy(classifications,y_test)\n",
    "print('Our score: ',our_acc)\n"
   ]
  },
  {
   "cell_type": "code",
   "execution_count": 326,
   "metadata": {},
   "outputs": [],
   "source": [
    "#Reference\n",
    "#https://beckernick.github.io/logistic-regression-from-scratch/"
   ]
  }
 ],
 "metadata": {
  "kernelspec": {
   "display_name": "Python 3",
   "language": "python",
   "name": "python3"
  },
  "language_info": {
   "codemirror_mode": {
    "name": "ipython",
    "version": 3
   },
   "file_extension": ".py",
   "mimetype": "text/x-python",
   "name": "python",
   "nbconvert_exporter": "python",
   "pygments_lexer": "ipython3",
   "version": "3.6.4"
  }
 },
 "nbformat": 4,
 "nbformat_minor": 2
}
