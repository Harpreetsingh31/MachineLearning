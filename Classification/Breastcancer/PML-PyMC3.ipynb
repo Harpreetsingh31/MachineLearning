{
 "cells": [
  {
   "cell_type": "code",
   "execution_count": null,
   "metadata": {},
   "outputs": [],
   "source": [
    "import pymc3 as pm\n",
    "import numpy as np\n",
    "import pandas as pd\n",
    "import matplotlib.pyplot as plt\n",
    "#import seaborn as sns; sns.set()\n",
    "from scipy import stats, optimize\n",
    "from sklearn.datasets import load_diabetes\n",
    "from sklearn.cross_validation import train_test_split\n",
    "from theano import shared"
   ]
  },
  {
   "cell_type": "code",
   "execution_count": null,
   "metadata": {},
   "outputs": [],
   "source": [
    "#Importing dataset\n",
    "df = pd.read_csv('breast-cancer-wisconsin.csv')\n",
    "df.replace('?',-99999,inplace=True)\n",
    "df.drop(['id'],1,inplace=True)\n",
    "\n",
    "X = np.array(df.drop(['class'],1))\n",
    "y = df['class']\n",
    "\n",
    "X_train, X_test, y_train, y_test = train_test_split(X,y,test_size = .20,random_state = 42)"
   ]
  },
  {
   "cell_type": "code",
   "execution_count": null,
   "metadata": {},
   "outputs": [],
   "source": [
    "#Generate Model\n",
    "linear_model = pm.Model()\n",
    "with linear_model:\n",
    "    # Priors for unknown model parameters    \n",
    "\n",
    "    alpha = pm.Normal(\"alpha\", mu=0,sd=1)\n",
    "    betas = pm.Normal(\"betas\", mu=0, sd=1, shape=X.shape[1])\n",
    "    sigma = pm.HalfNormal(\"sigma\", tau=1) # you could also try with a HalfCauchy that has longer/fatter tails\n",
    "    # Expected value of outcome\n",
    "\n",
    "    mu = pm.invlogit(alpha + pm.math.dot(betas, model_input.T))\n",
    "    # Likelihood (sampling distribution of observations)\n",
    "\n",
    "\n",
    "    y = pm.bernoulli(\"y\", mu=mu, sd=sigma, observed=model_output)\n",
    "    # Obtain starting values via Maximum A Posteriori Estimate\n"
   ]
  },
  {
   "cell_type": "code",
   "execution_count": null,
   "metadata": {},
   "outputs": [],
   "source": [
    "#infering parameters\n",
    "with linear_model:\n",
    "    inference=pm.variational.advi(n=10000)\n"
   ]
  },
  {
   "cell_type": "code",
   "execution_count": null,
   "metadata": {},
   "outputs": [],
   "source": [
    "#intrepreting parameters\n",
    "trace= approx.sample(draws=50000)\n",
    "print(pm.summary(trace))\n",
    "\n",
    "pm.plots.traceplot(trace)\n",
    "plt.show()"
   ]
  },
  {
   "cell_type": "code",
   "execution_count": null,
   "metadata": {},
   "outputs": [],
   "source": [
    "#prediction\n",
    "ppc = pm.sample_ppc(trace[100:],model=linear_model,samples=20000)\n",
    "pred = ppc['y'].mean(axis=0)\n",
    "score =pm.r2_score(y_tr,pred)\n",
    "print('CV Score: {}'.format(score))\n"
   ]
  },
  {
   "cell_type": "code",
   "execution_count": null,
   "metadata": {},
   "outputs": [],
   "source": []
  }
 ],
 "metadata": {
  "kernelspec": {
   "display_name": "Python 3",
   "language": "python",
   "name": "python3"
  },
  "language_info": {
   "codemirror_mode": {
    "name": "ipython",
    "version": 3
   },
   "file_extension": ".py",
   "mimetype": "text/x-python",
   "name": "python",
   "nbconvert_exporter": "python",
   "pygments_lexer": "ipython3",
   "version": "3.6.4"
  }
 },
 "nbformat": 4,
 "nbformat_minor": 2
}
