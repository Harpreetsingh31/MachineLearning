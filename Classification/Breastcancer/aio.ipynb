{
 "cells": [
  {
   "cell_type": "code",
   "execution_count": 1,
   "metadata": {},
   "outputs": [
    {
     "name": "stderr",
     "output_type": "stream",
     "text": [
      "c:\\users\\harpreet singh\\appdata\\local\\programs\\python\\python36-64\\lib\\site-packages\\sklearn\\cross_validation.py:41: DeprecationWarning: This module was deprecated in version 0.18 in favor of the model_selection module into which all the refactored classes and functions are moved. Also note that the interface of the new CV iterators are different from that of this module. This module will be removed in 0.20.\n",
      "  \"This module will be removed in 0.20.\", DeprecationWarning)\n"
     ]
    }
   ],
   "source": [
    "import pandas as pd\n",
    "import matplotlib.pyplot as plt\n",
    "import numpy as np\n",
    "\n",
    "from sklearn.metrics import classification_report\n",
    "from sklearn.metrics import confusion_matrix\n",
    "from sklearn.metrics import accuracy_score\n",
    "from sklearn import cross_validation\n",
    "from sklearn.cross_validation import cross_val_score\n",
    "from sklearn.model_selection import train_test_split\n",
    "\n",
    "from sklearn.linear_model import LogisticRegression\n",
    "from sklearn.tree import DecisionTreeClassifier\n",
    "from sklearn.neighbors import KNeighborsClassifier\n",
    "from sklearn.discriminant_analysis import LinearDiscriminantAnalysis\n",
    "from sklearn.naive_bayes import GaussianNB\n",
    "from sklearn.svm import SVC"
   ]
  },
  {
   "cell_type": "code",
   "execution_count": 2,
   "metadata": {},
   "outputs": [],
   "source": [
    "#Importing dataset\n",
    "df = pd.read_csv('breast-cancer-wisconsin.csv')\n",
    "df.replace('?',-99999,inplace=True)\n",
    "df.drop(['id'],1,inplace=True)\n",
    "\n",
    "X = np.array(df.drop(['class'],1))\n",
    "y = df['class']\n",
    "\n",
    "X_train, X_test, y_train, y_test = train_test_split(X,y,test_size = .20,random_state = 42)"
   ]
  },
  {
   "cell_type": "code",
   "execution_count": 3,
   "metadata": {},
   "outputs": [
    {
     "name": "stdout",
     "output_type": "stream",
     "text": [
      "LR: 0.951687 (0.021686)\n",
      "LDA: 0.946298 (0.015099)\n",
      "KNN: 0.960680 (0.010575)\n",
      "CART: 0.935583 (0.018302)\n",
      "NB: 0.953441 (0.017502)\n",
      "SVM: 0.955179 (0.016295)\n"
     ]
    }
   ],
   "source": [
    "# Spot Check Algorithms\n",
    "\n",
    "models = []\n",
    "models.append(('LR', LogisticRegression()))\n",
    "models.append(('LDA', LinearDiscriminantAnalysis()))\n",
    "models.append(('KNN', KNeighborsClassifier()))\n",
    "models.append(('CART', DecisionTreeClassifier()))\n",
    "models.append(('NB', GaussianNB()))\n",
    "models.append(('SVM', SVC()))\n",
    "\n",
    "\n",
    "# evaluate each model in turn\n",
    "results = []\n",
    "names = []\n",
    "\n",
    "for name, model in models:\n",
    "\tcv_results = cross_val_score(model, X_train, y_train, cv=5)\n",
    "\tresults.append(cv_results)\n",
    "\tnames.append(name)\n",
    "\tmsg = \"%s: %f (%f)\" % (name, cv_results.mean(), cv_results.std())\n",
    "\tprint(msg)\n"
   ]
  },
  {
   "cell_type": "code",
   "execution_count": 4,
   "metadata": {},
   "outputs": [
    {
     "name": "stdout",
     "output_type": "stream",
     "text": [
      "knn testing\n",
      "0.9857142857142858\n",
      "[[94  1]\n",
      " [ 1 44]]\n",
      "             precision    recall  f1-score   support\n",
      "\n",
      "          2       0.99      0.99      0.99        95\n",
      "          4       0.98      0.98      0.98        45\n",
      "\n",
      "avg / total       0.99      0.99      0.99       140\n",
      "\n"
     ]
    }
   ],
   "source": [
    "\n",
    "# Make predictions on validation dataset\n",
    "knn = KNeighborsClassifier()\n",
    "knn.fit(X_train, y_train)\n",
    "predictions = knn.predict(X_test)\n",
    "\n",
    "print(\"knn testing\")\n",
    "print(accuracy_score(y_test, predictions))\n",
    "print(confusion_matrix(y_test, predictions))\n",
    "print(classification_report(y_test, predictions))"
   ]
  },
  {
   "cell_type": "code",
   "execution_count": 5,
   "metadata": {},
   "outputs": [
    {
     "name": "stderr",
     "output_type": "stream",
     "text": [
      "c:\\users\\harpreet singh\\appdata\\local\\programs\\python\\python36-64\\lib\\site-packages\\h5py\\__init__.py:36: FutureWarning: Conversion of the second argument of issubdtype from `float` to `np.floating` is deprecated. In future, it will be treated as `np.float64 == np.dtype(float).type`.\n",
      "  from ._conv import register_converters as _register_converters\n",
      "Using TensorFlow backend.\n",
      "c:\\users\\harpreet singh\\appdata\\local\\programs\\python\\python36-64\\lib\\site-packages\\keras\\models.py:944: UserWarning: The `nb_epoch` argument in `fit` has been renamed `epochs`.\n",
      "  warnings.warn('The `nb_epoch` argument in `fit` '\n"
     ]
    },
    {
     "name": "stdout",
     "output_type": "stream",
     "text": [
      "Epoch 1/10\n",
      "559/559 [==============================] - 1s 1ms/step - loss: 0.7338 - acc: 0.7889\n",
      "Epoch 2/10\n",
      "559/559 [==============================] - 0s 424us/step - loss: 0.5833 - acc: 0.8891\n",
      "Epoch 3/10\n",
      "559/559 [==============================] - 0s 408us/step - loss: 0.4307 - acc: 0.9249\n",
      "Epoch 4/10\n",
      "559/559 [==============================] - 0s 437us/step - loss: 0.4577 - acc: 0.9392\n",
      "Epoch 5/10\n",
      "559/559 [==============================] - 0s 444us/step - loss: 0.4535 - acc: 0.9338\n",
      "Epoch 6/10\n",
      "559/559 [==============================] - 0s 564us/step - loss: 0.4179 - acc: 0.9392\n",
      "Epoch 7/10\n",
      "559/559 [==============================] - 0s 428us/step - loss: 0.2862 - acc: 0.9535\n",
      "Epoch 8/10\n",
      "559/559 [==============================] - 0s 460us/step - loss: 0.1870 - acc: 0.9589\n",
      "Epoch 9/10\n",
      "559/559 [==============================] - 0s 453us/step - loss: 0.1792 - acc: 0.9589\n",
      "Epoch 10/10\n",
      "559/559 [==============================] - 0s 452us/step - loss: 0.1723 - acc: 0.9606\n",
      "140/140 [==============================] - 0s 543us/step\n",
      "Evaluation result on Test Data : Loss = 0.14974378318791942, accuracy = 0.9500000029802322\n"
     ]
    }
   ],
   "source": [
    "#Applying Neural network\n",
    "from keras.layers import Dense\n",
    "from keras.models import Sequential\n",
    "from keras.utils import to_categorical\n",
    "from sklearn.preprocessing import scale\n",
    "y2 = pd.get_dummies(df['class'])\n",
    "\n",
    "X_train, X_test, y_train, y_test = train_test_split(X,y2,test_size = .20,random_state = 42)\n",
    "\n",
    "model = Sequential()\n",
    "model.add(Dense(9, input_dim=9, activation='relu'))\n",
    "model.add(Dense(5, activation='relu'))\n",
    "model.add(Dense(3, activation='relu'))\n",
    "model.add(Dense(2, activation='softmax'))\n",
    "model.compile(loss='categorical_crossentropy', optimizer = 'rmsprop',metrics=['accuracy'])\n",
    "\n",
    "history = model.fit(X_train,y_train,nb_epoch= 10, verbose=1,batch_size=5)\n",
    "\n",
    "[test_loss, test_acc] = model.evaluate(X_test, y_test, batch_size=5)\n",
    "print(\"Evaluation result on Test Data : Loss = {}, accuracy = {}\".format(test_loss, test_acc))"
   ]
  },
  {
   "cell_type": "code",
   "execution_count": null,
   "metadata": {},
   "outputs": [],
   "source": []
  }
 ],
 "metadata": {
  "kernelspec": {
   "display_name": "Python 3",
   "language": "python",
   "name": "python3"
  },
  "language_info": {
   "codemirror_mode": {
    "name": "ipython",
    "version": 3
   },
   "file_extension": ".py",
   "mimetype": "text/x-python",
   "name": "python",
   "nbconvert_exporter": "python",
   "pygments_lexer": "ipython3",
   "version": "3.6.4"
  }
 },
 "nbformat": 4,
 "nbformat_minor": 2
}
