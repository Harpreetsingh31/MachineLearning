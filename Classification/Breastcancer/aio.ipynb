{
 "cells": [
  {
   "cell_type": "code",
   "execution_count": 1,
   "metadata": {},
   "outputs": [
    {
     "name": "stderr",
     "output_type": "stream",
     "text": [
      "c:\\users\\harpreet singh\\appdata\\local\\programs\\python\\python36-64\\lib\\site-packages\\sklearn\\cross_validation.py:41: DeprecationWarning: This module was deprecated in version 0.18 in favor of the model_selection module into which all the refactored classes and functions are moved. Also note that the interface of the new CV iterators are different from that of this module. This module will be removed in 0.20.\n",
      "  \"This module will be removed in 0.20.\", DeprecationWarning)\n"
     ]
    }
   ],
   "source": [
    "import pandas as pd\n",
    "import matplotlib.pyplot as plt\n",
    "import numpy as np\n",
    "\n",
    "from sklearn.metrics import classification_report\n",
    "from sklearn.metrics import confusion_matrix\n",
    "from sklearn.metrics import accuracy_score\n",
    "from sklearn import cross_validation\n",
    "from sklearn.cross_validation import cross_val_score\n",
    "from sklearn.model_selection import train_test_split\n",
    "\n",
    "from sklearn.linear_model import LogisticRegression\n",
    "from sklearn.tree import DecisionTreeClassifier\n",
    "from sklearn.neighbors import KNeighborsClassifier\n",
    "from sklearn.discriminant_analysis import LinearDiscriminantAnalysis\n",
    "from sklearn.naive_bayes import GaussianNB\n",
    "from sklearn.svm import SVC\n",
    "import warnings\n",
    "warnings.filterwarnings('ignore')"
   ]
  },
  {
   "cell_type": "code",
   "execution_count": 4,
   "metadata": {},
   "outputs": [],
   "source": [
    "#Importing dataset\n",
    "df = pd.read_csv('breast-cancer-wisconsin.csv')\n",
    "df.replace('?',-99999,inplace=True)\n",
    "df.drop(['id'],1,inplace=True)\n",
    "\n",
    "X = np.array(df.drop(['class','bare_nuclei'],1))\n",
    "y = df['class']\n",
    "\n",
    "X_train, X_test, y_train, y_test = train_test_split(X,y,test_size = .20,random_state = 42)"
   ]
  },
  {
   "cell_type": "code",
   "execution_count": 5,
   "metadata": {},
   "outputs": [
    {
     "name": "stdout",
     "output_type": "stream",
     "text": [
      "LR: 0.957013 (0.018414)\n",
      "LDA: 0.949838 (0.016804)\n",
      "KNN: 0.949838 (0.021019)\n",
      "CART: 0.928392 (0.026100)\n",
      "NB: 0.956997 (0.015641)\n",
      "SVM: 0.958735 (0.018688)\n"
     ]
    }
   ],
   "source": [
    "# Spot Check Algorithms\n",
    "\n",
    "models = []\n",
    "models.append(('LR', LogisticRegression()))\n",
    "models.append(('LDA', LinearDiscriminantAnalysis()))\n",
    "models.append(('KNN', KNeighborsClassifier()))\n",
    "models.append(('CART', DecisionTreeClassifier()))\n",
    "models.append(('NB', GaussianNB()))\n",
    "models.append(('SVM', SVC()))\n",
    "\n",
    "\n",
    "# evaluate each model in turn\n",
    "results = []\n",
    "names = []\n",
    "\n",
    "for name, model in models:\n",
    "\tcv_results = cross_val_score(model, X_train, y_train, cv=5)\n",
    "\tresults.append(cv_results)\n",
    "\tnames.append(name)\n",
    "\tmsg = \"%s: %f (%f)\" % (name, cv_results.mean(), cv_results.std())\n",
    "\tprint(msg)\n"
   ]
  },
  {
   "cell_type": "code",
   "execution_count": 7,
   "metadata": {},
   "outputs": [
    {
     "name": "stdout",
     "output_type": "stream",
     "text": [
      "knn testing\n",
      "0.9714285714285714\n",
      "[[92  3]\n",
      " [ 1 44]]\n",
      "             precision    recall  f1-score   support\n",
      "\n",
      "          2       0.99      0.97      0.98        95\n",
      "          4       0.94      0.98      0.96        45\n",
      "\n",
      "avg / total       0.97      0.97      0.97       140\n",
      "\n"
     ]
    }
   ],
   "source": [
    "\n",
    "# Make predictions on validation dataset\n",
    "knn = KNeighborsClassifier()\n",
    "knn.fit(X_train, y_train)\n",
    "predictions = knn.predict(X_test)\n",
    "\n",
    "print(\"knn testing\")\n",
    "print(accuracy_score(y_test, predictions))\n",
    "print(confusion_matrix(y_test, predictions))\n",
    "print(classification_report(y_test, predictions))"
   ]
  },
  {
   "cell_type": "code",
   "execution_count": 10,
   "metadata": {},
   "outputs": [
    {
     "name": "stdout",
     "output_type": "stream",
     "text": [
      "Epoch 1/15\n",
      "559/559 [==============================] - 1s 3ms/step - loss: 0.8849 - acc: 0.5778\n",
      "Epoch 2/15\n",
      "559/559 [==============================] - 0s 810us/step - loss: 0.6184 - acc: 0.8515\n",
      "Epoch 3/15\n",
      "559/559 [==============================] - 0s 617us/step - loss: 0.5403 - acc: 0.8909\n",
      "Epoch 4/15\n",
      "559/559 [==============================] - 0s 619us/step - loss: 0.4753 - acc: 0.9034\n",
      "Epoch 5/15\n",
      "559/559 [==============================] - 0s 765us/step - loss: 0.4183 - acc: 0.9231\n",
      "Epoch 6/15\n",
      "559/559 [==============================] - 0s 684us/step - loss: 0.3698 - acc: 0.9410\n",
      "Epoch 7/15\n",
      "559/559 [==============================] - 0s 608us/step - loss: 0.3316 - acc: 0.9392\n",
      "Epoch 8/15\n",
      "559/559 [==============================] - 0s 601us/step - loss: 0.3011 - acc: 0.9463\n",
      "Epoch 9/15\n",
      "559/559 [==============================] - 0s 616us/step - loss: 0.2773 - acc: 0.9535\n",
      "Epoch 10/15\n",
      "559/559 [==============================] - 0s 724us/step - loss: 0.2532 - acc: 0.9499\n",
      "Epoch 11/15\n",
      "559/559 [==============================] - 0s 651us/step - loss: 0.2378 - acc: 0.9481\n",
      "Epoch 12/15\n",
      "559/559 [==============================] - 0s 799us/step - loss: 0.2188 - acc: 0.9517\n",
      "Epoch 13/15\n",
      "559/559 [==============================] - 0s 687us/step - loss: 0.2081 - acc: 0.9517\n",
      "Epoch 14/15\n",
      "559/559 [==============================] - 0s 688us/step - loss: 0.1972 - acc: 0.9517\n",
      "Epoch 15/15\n",
      "559/559 [==============================] - 0s 644us/step - loss: 0.1873 - acc: 0.9517\n",
      "140/140 [==============================] - 0s 915us/step\n",
      "Evaluation result on Test Data : Loss = 0.1892088864530836, accuracy = 0.9428571462631226\n"
     ]
    }
   ],
   "source": [
    "#Applying Neural network\n",
    "from keras.layers import Dense\n",
    "from keras.models import Sequential\n",
    "from keras.utils import to_categorical\n",
    "from sklearn.preprocessing import scale\n",
    "y2 = pd.get_dummies(df['class'])\n",
    "\n",
    "X_train, X_test, y_train, y_test = train_test_split(X,y2,test_size = .20,random_state = 42)\n",
    "\n",
    "model = Sequential()\n",
    "model.add(Dense(X.shape[1], input_dim=X.shape[1], activation='relu'))\n",
    "model.add(Dense(5, activation='relu'))\n",
    "model.add(Dense(3, activation='relu'))\n",
    "model.add(Dense(2, activation='softmax'))\n",
    "model.compile(loss='categorical_crossentropy', optimizer = 'rmsprop',metrics=['accuracy'])\n",
    "\n",
    "history = model.fit(X_train,y_train,nb_epoch= 15, verbose=1,batch_size=5)\n",
    "\n",
    "[test_loss, test_acc] = model.evaluate(X_test, y_test, batch_size=5)\n",
    "print(\"Evaluation result on Test Data : Loss = {}, accuracy = {}\".format(test_loss, test_acc))"
   ]
  },
  {
   "cell_type": "code",
   "execution_count": null,
   "metadata": {},
   "outputs": [],
   "source": []
  }
 ],
 "metadata": {
  "kernelspec": {
   "display_name": "Python 3",
   "language": "python",
   "name": "python3"
  },
  "language_info": {
   "codemirror_mode": {
    "name": "ipython",
    "version": 3
   },
   "file_extension": ".py",
   "mimetype": "text/x-python",
   "name": "python",
   "nbconvert_exporter": "python",
   "pygments_lexer": "ipython3",
   "version": "3.6.4"
  }
 },
 "nbformat": 4,
 "nbformat_minor": 2
}
