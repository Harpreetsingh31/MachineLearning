{
 "cells": [
  {
   "cell_type": "code",
   "execution_count": 2,
   "metadata": {
    "scrolled": true
   },
   "outputs": [
    {
     "name": "stderr",
     "output_type": "stream",
     "text": [
      "WARNING (theano.configdefaults): g++ not available, if using conda: `conda install m2w64-toolchain`\n",
      "c:\\users\\harpreet singh\\appdata\\local\\programs\\python\\python36-64\\lib\\site-packages\\theano\\configdefaults.py:560: UserWarning: DeprecationWarning: there is no c++ compiler.This is deprecated and with Theano 0.11 a c++ compiler will be mandatory\n",
      "  warnings.warn(\"DeprecationWarning: there is no c++ compiler.\"\n",
      "WARNING (theano.configdefaults): g++ not detected ! Theano will be unable to execute optimized C-implementations (for both CPU and GPU) and will default to Python implementations. Performance will be severely degraded. To remove this warning, set Theano flags cxx to an empty string.\n",
      "WARNING (theano.tensor.blas): Using NumPy C-API based implementation for BLAS functions.\n",
      "c:\\users\\harpreet singh\\appdata\\local\\programs\\python\\python36-64\\lib\\site-packages\\h5py\\__init__.py:36: FutureWarning: Conversion of the second argument of issubdtype from `float` to `np.floating` is deprecated. In future, it will be treated as `np.float64 == np.dtype(float).type`.\n",
      "  from ._conv import register_converters as _register_converters\n",
      "c:\\users\\harpreet singh\\appdata\\local\\programs\\python\\python36-64\\lib\\site-packages\\sklearn\\cross_validation.py:41: DeprecationWarning: This module was deprecated in version 0.18 in favor of the model_selection module into which all the refactored classes and functions are moved. Also note that the interface of the new CV iterators are different from that of this module. This module will be removed in 0.20.\n",
      "  \"This module will be removed in 0.20.\", DeprecationWarning)\n"
     ]
    }
   ],
   "source": [
    "import pandas as pd\n",
    "import matplotlib.pyplot as plt\n",
    "import numpy as np\n",
    "\n",
    "import pymc3 as pm\n",
    "from sklearn.cross_validation import train_test_split\n",
    "from sklearn.preprocessing import scale\n",
    "from theano import shared\n",
    "import theano.tensor as T\n",
    "from pymc3 import *\n",
    "import warnings\n",
    "warnings.filterwarnings('ignore')"
   ]
  },
  {
   "cell_type": "code",
   "execution_count": 3,
   "metadata": {
    "scrolled": false
   },
   "outputs": [],
   "source": [
    "#Importing dataset\n",
    "df = pd.read_csv('breast-cancer-wisconsin.csv')\n",
    "df.drop(['id'],1,inplace=True)\n",
    "\n",
    "# Convert '?' to NaN\n",
    "df[df == '?'] = np.nan\n",
    "# Drop missing values and print shape of new DataFrame\n",
    "df = df.dropna()\n",
    "\n",
    "X = scale(np.array(df.drop(['class'],1)))\n",
    "y = np.array(df['class'])/2-1\n",
    "\n",
    "#Split Data\n",
    "X_tr, X_te, y_tr, y_te = train_test_split(X,y,test_size=0.2, random_state=42)\n",
    "\n",
    "#Sharedvariable\n",
    "model_input = shared(X_tr)\n",
    "model_output= shared(y_tr)"
   ]
  },
  {
   "cell_type": "code",
   "execution_count": 4,
   "metadata": {},
   "outputs": [],
   "source": [
    "#Generate Model\n",
    "logistic_model = pm.Model()\n",
    "with logistic_model:\n",
    "    # Priors for unknown model parameters    \n",
    "    alpha = pm.Normal(\"alpha\", mu=0,sd=1)\n",
    "    betas = pm.Normal(\"betas\", mu=0, sd=1, shape=X.shape[1])\n",
    "    \n",
    "    # Expected value of outcome\n",
    "    p = pm.invlogit(alpha + T.dot(model_input,betas))\n",
    "    \n",
    "\n",
    "    # Likelihood (sampling distribution of observations)\n",
    "    y = pm.Bernoulli('y', p, observed=model_output)"
   ]
  },
  {
   "cell_type": "code",
   "execution_count": 5,
   "metadata": {
    "scrolled": true
   },
   "outputs": [
    {
     "name": "stderr",
     "output_type": "stream",
     "text": [
      "Average Loss = 19.025: 100%|█████████████████████████████████████████████████████| 10000/10000 [09:17<00:00, 17.93it/s]\n",
      "Finished [100%]: Average Loss = 19.03\n"
     ]
    }
   ],
   "source": [
    "#infering parameters\n",
    "with logistic_model:\n",
    "    advi=pm.ADVI()\n",
    "    approx = advi.fit(n=10000,more_replacements={\n",
    "        model_input:pm.Minibatch(X_tr),\n",
    "        model_output:pm.Minibatch(y_tr)\n",
    "    \n",
    "     }\n",
    "        )"
   ]
  },
  {
   "cell_type": "code",
   "execution_count": null,
   "metadata": {},
   "outputs": [
    {
     "name": "stderr",
     "output_type": "stream",
     "text": [
      " 56%|███████████████████████████████████████████▍                                  | 557/1000 [00:02<00:02, 186.75it/s]"
     ]
    }
   ],
   "source": [
    "#Replace shared variable with testing set\n",
    "model_input.set_value(X_te)\n",
    "model_output.set_value(y_te)\n",
    "\n",
    "# Creater posterior predictive samples\n",
    "trace = approx.sample(draws=10000)\n",
    "ppc = pm.sample_ppc(trace,model=logistic_model,samples=1000)\n",
    "pred = ppc['y'].mean(axis=0) > 0.5\n",
    "\n",
    "print('Accuracy = {}%'.format((y_te == pred).mean() * 100))"
   ]
  },
  {
   "cell_type": "code",
   "execution_count": null,
   "metadata": {},
   "outputs": [],
   "source": [
    "print(pm.summary(trace))\n",
    "pm.plots.traceplot(trace)\n",
    "plt.show()"
   ]
  },
  {
   "cell_type": "code",
   "execution_count": null,
   "metadata": {},
   "outputs": [],
   "source": []
  }
 ],
 "metadata": {
  "kernelspec": {
   "display_name": "Python 3",
   "language": "python",
   "name": "python3"
  },
  "language_info": {
   "codemirror_mode": {
    "name": "ipython",
    "version": 3
   },
   "file_extension": ".py",
   "mimetype": "text/x-python",
   "name": "python",
   "nbconvert_exporter": "python",
   "pygments_lexer": "ipython3",
   "version": "3.6.4"
  }
 },
 "nbformat": 4,
 "nbformat_minor": 2
}
