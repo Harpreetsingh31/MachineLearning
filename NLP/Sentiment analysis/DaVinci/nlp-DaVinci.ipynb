{
 "cells": [
  {
   "cell_type": "code",
   "execution_count": 1,
   "metadata": {},
   "outputs": [
    {
     "name": "stderr",
     "output_type": "stream",
     "text": [
      "c:\\users\\harpreet singh\\appdata\\local\\programs\\python\\python36-64\\lib\\site-packages\\h5py\\__init__.py:36: FutureWarning: Conversion of the second argument of issubdtype from `float` to `np.floating` is deprecated. In future, it will be treated as `np.float64 == np.dtype(float).type`.\n",
      "  from ._conv import register_converters as _register_converters\n"
     ]
    }
   ],
   "source": [
    "import matplotlib.pyplot as plt\n",
    "import tensorflow as tf\n",
    "import numpy as np\n",
    "import pandas as pd\n",
    "from sklearn.model_selection import train_test_split"
   ]
  },
  {
   "cell_type": "code",
   "execution_count": 2,
   "metadata": {},
   "outputs": [],
   "source": [
    "from scipy.spatial.distance import cdist\n",
    "\n",
    "# from tf.keras.models import Sequential  # This does not work!\n",
    "from tensorflow.python.keras.models import Sequential\n",
    "from tensorflow.python.keras.layers import Dense, GRU, Embedding\n",
    "from tensorflow.python.keras.optimizers import Adam\n",
    "from tensorflow.python.keras.preprocessing.text import Tokenizer\n",
    "from tensorflow.python.keras.preprocessing.sequence import pad_sequences"
   ]
  },
  {
   "cell_type": "code",
   "execution_count": 102,
   "metadata": {},
   "outputs": [
    {
     "name": "stdout",
     "output_type": "stream",
     "text": [
      "['The Da Vinci Code book is just awesome.'\n",
      " \"this was the first clive cussler i've ever read, but even books like Relic, and Da Vinci code were more plausible than this.\"\n",
      " 'i liked the Da Vinci Code a lot.' ...\n",
      " 'As I sit here, watching the MTV Movie Awards, I am reminded of how much I despised the movie Brokeback Mountain.'\n",
      " 'Ok brokeback mountain is such a horrible movie.'\n",
      " 'Oh, and Brokeback Mountain was a terrible movie.']\n"
     ]
    }
   ],
   "source": [
    "df = pd.read_csv(\"training.txt\",sep=\"\t\", header=None)\n",
    "unlabeltext  = pd.read_fwf('testdata.txt')\n",
    "\n",
    "#Inputs and Output\n",
    "X = np.array(df[1])\n",
    "y = np.array(df[0])\n",
    "X_train, X_test, y_train, y_test = train_test_split(X,y,test_size = .20,random_state = 42)\n",
    "\n",
    "unlabeltext.fillna('None',inplace=True)\n",
    "#unlabeltext.replace('None', np.nan, inplace=True)\n",
    "unlabeltext  = np.array(unlabeltext)\n",
    "print(X)"
   ]
  },
  {
   "cell_type": "code",
   "execution_count": 82,
   "metadata": {},
   "outputs": [
    {
     "name": "stdout",
     "output_type": "stream",
     "text": [
      "Train-set:   I really like The Da Vinci Code.\n",
      "                                                                      \n",
      "Train-tokenized-set:   [1, 32, 18, 2, 7, 6, 8]\n"
     ]
    }
   ],
   "source": [
    "#cleaning data\n",
    "#Tokenzier\n",
    "num_words = 10000\n",
    "\n",
    "tokenizer = Tokenizer(num_words=num_words)\n",
    "tokenizer.fit_on_texts(X)\n",
    "x_train_tokens = tokenizer.texts_to_sequences(X_train)\n",
    "x_test_tokens  = tokenizer.texts_to_sequences(X_test)\n",
    "\n",
    "#print(tokenizer.word_index)\n",
    "print(\"Train-set:  \", (X_train[0]))\n",
    "print(\"                                                                      \")\n",
    "print(\"Train-tokenized-set:  \", (x_train_tokens[0]))"
   ]
  },
  {
   "cell_type": "code",
   "execution_count": 101,
   "metadata": {},
   "outputs": [
    {
     "name": "stdout",
     "output_type": "stream",
     "text": [
      "The average number of tokens in a sequence is:   11.072997976293726\n",
      "The maximum number of tokens in a sequence is:   933\n",
      "The max number of tokens we will allow is set to the average plus 2 sd   40\n",
      "This covers about 99% of the data-set:   0.9985544955189362\n"
     ]
    }
   ],
   "source": [
    "#Padding and Truncating Data¶\n",
    "#The Recurrent Neural Network can take sequences of arbitrary length as input\n",
    "\n",
    "#First we count the number of tokens in all the sequences in the data-set.\n",
    "num_tokens = [len(tokens) for tokens in x_train_tokens + x_test_tokens]\n",
    "num_tokens = np.array(num_tokens)\n",
    "\n",
    "print(\"The average number of tokens in a sequence is:  \", (np.mean(num_tokens)))\n",
    "print(\"The maximum number of tokens in a sequence is:  \", (np.max(num_tokens)))\n",
    "\n",
    "#The max number of tokens we will allow is set to the average plus 2 standard deviations.\n",
    "max_tokens = np.mean(num_tokens) + 2 * np.std(num_tokens)\n",
    "max_tokens = int(max_tokens)\n",
    "print(\"The max number of tokens we will allow is set to the average plus 2 sd  \", (max_tokens))\n",
    "print(\"This covers about 99% of the data-set:  \", (np.sum(num_tokens < max_tokens) / len(num_tokens)))\n"
   ]
  },
  {
   "cell_type": "code",
   "execution_count": 66,
   "metadata": {},
   "outputs": [
    {
     "name": "stdout",
     "output_type": "stream",
     "text": [
      "The train-set is transformed into one big matrix of integers (tokens) (5534, 40)\n",
      "The test -set is transformed into one big matrix of integers (tokens) (1384, 40)\n",
      "                                                                      \n",
      "Tokenized training data [ 1 32 18  2  7  6  8]\n",
      "                                                                      \n",
      "Padded    training data [ 0  0  0  0  0  0  0  0  0  0  0  0  0  0  0  0  0  0  0  0  0  0  0  0\n",
      "  0  0  0  0  0  0  0  0  0  1 32 18  2  7  6  8]\n"
     ]
    }
   ],
   "source": [
    "#padding or truncating the sequences that have a different length, \n",
    "#we need to determine if we want to do this padding or truncating 'pre' or 'post'\n",
    "pad = 'pre'\n",
    "x_train_pad = pad_sequences(x_train_tokens, maxlen=max_tokens,padding=pad, truncating=pad)\n",
    "x_test_pad  = pad_sequences(x_test_tokens,  maxlen=max_tokens,padding=pad, truncating=pad)\n",
    "\n",
    "#We have now transformed the data into one big matrix of integers (tokens) with this shape:\n",
    "print(\"The train-set is transformed into one big matrix of integers (tokens)\", (x_train_pad.shape))\n",
    "print(\"The test -set is transformed into one big matrix of integers (tokens)\", (x_test_pad.shape))\n",
    "\n",
    "#Padding result\n",
    "print(\"                                                                      \")\n",
    "print(\"Tokenized training data\", (np.array(x_train_tokens[0])))\n",
    "print(\"                                                                      \")\n",
    "print(\"Padded    training data\", (x_train_pad[0]))\n"
   ]
  },
  {
   "cell_type": "code",
   "execution_count": 67,
   "metadata": {},
   "outputs": [
    {
     "name": "stdout",
     "output_type": "stream",
     "text": [
      "Train-set:   I really like The Da Vinci Code.\n",
      "                                                                      \n",
      "Tokenized text converted back to original:  i really like the da vinci code\n"
     ]
    }
   ],
   "source": [
    "#Tokenizer Inverse Map: Converting tokenized back to original text.\n",
    "idx = tokenizer.word_index\n",
    "inverse_map = dict(zip(idx.values(), idx.keys()))\n",
    "\n",
    "#Helper-function for converting a list of tokens back to a string of words.\n",
    "def tokens_to_string(tokens):\n",
    "\n",
    "    # Map from tokens back to words.\n",
    "    words = [inverse_map[token] for token in tokens if token != 0]\n",
    "\n",
    "    # Concatenate all words.\n",
    "    text = \" \".join(words)\n",
    "    return text\n",
    "\n",
    "print(\"Train-set:  \", (X_train[0]))\n",
    "print(\"                                                                      \")\n",
    "print(\"Tokenized text converted back to original: \", (tokens_to_string(x_train_tokens[0])))"
   ]
  },
  {
   "cell_type": "code",
   "execution_count": 69,
   "metadata": {},
   "outputs": [],
   "source": [
    "#Create the Recurrent Neural Network Model\n",
    "\n",
    "model = Sequential()\n",
    "embedding_size = 10\n",
    "\n",
    "model.add(Embedding(input_dim=num_words,\n",
    "                    output_dim=embedding_size,\n",
    "                    input_length=max_tokens,\n",
    "                    name='layer_embedding'))\n",
    "model.add(GRU(units=16, return_sequences=True))\n",
    "model.add(GRU(units=8, return_sequences=True))\n",
    "model.add(GRU(units=4))\n",
    "model.add(Dense(1, activation='sigmoid'))\n",
    "optimizer = Adam(lr=1e-3)\n",
    "\n",
    "tf.logging.set_verbosity(tf.logging.ERROR)"
   ]
  },
  {
   "cell_type": "code",
   "execution_count": 70,
   "metadata": {},
   "outputs": [
    {
     "name": "stdout",
     "output_type": "stream",
     "text": [
      "_________________________________________________________________\n",
      "Layer (type)                 Output Shape              Param #   \n",
      "=================================================================\n",
      "layer_embedding (Embedding)  (None, 40, 10)            100000    \n",
      "_________________________________________________________________\n",
      "gru_4 (GRU)                  (None, None, 16)          1296      \n",
      "_________________________________________________________________\n",
      "gru_5 (GRU)                  (None, None, 8)           600       \n",
      "_________________________________________________________________\n",
      "gru_6 (GRU)                  (None, 4)                 156       \n",
      "_________________________________________________________________\n",
      "dense_2 (Dense)              (None, 1)                 5         \n",
      "=================================================================\n",
      "Total params: 102,057\n",
      "Trainable params: 102,057\n",
      "Non-trainable params: 0\n",
      "_________________________________________________________________\n"
     ]
    }
   ],
   "source": [
    "#Compiling RNN model\n",
    "\n",
    "model.compile(loss='binary_crossentropy',\n",
    "              optimizer=optimizer,\n",
    "              metrics=['accuracy'])\n",
    "model.summary()\n",
    "tf.logging.set_verbosity(tf.logging.ERROR)"
   ]
  },
  {
   "cell_type": "code",
   "execution_count": 71,
   "metadata": {},
   "outputs": [
    {
     "name": "stdout",
     "output_type": "stream",
     "text": [
      "Train on 5257 samples, validate on 277 samples\n",
      "Epoch 1/3\n",
      "5257/5257 [==============================]5257/5257 [==============================] - 9s 2ms/step - loss: 0.6905 - acc: 0.5416 - val_loss: 0.6527 - val_acc: 0.5812\n",
      "\n",
      "Epoch 2/3\n",
      "5257/5257 [==============================]5257/5257 [==============================] - 6s 1ms/step - loss: 0.5188 - acc: 0.7803 - val_loss: 0.2710 - val_acc: 0.9278\n",
      "\n",
      "Epoch 3/3\n",
      "5257/5257 [==============================]5257/5257 [==============================] - 6s 1ms/step - loss: 0.1878 - acc: 0.9542 - val_loss: 0.1367 - val_acc: 0.9747\n",
      "\n"
     ]
    },
    {
     "data": {
      "text/plain": [
       "<tensorflow.python.keras._impl.keras.callbacks.History at 0x14e678db780>"
      ]
     },
     "execution_count": 71,
     "metadata": {},
     "output_type": "execute_result"
    }
   ],
   "source": [
    "#Training the Recurrent Neural Network¶\n",
    "\n",
    "model.fit(x_train_pad, y_train,\n",
    "          validation_split=0.05, epochs=3, batch_size=64)"
   ]
  },
  {
   "cell_type": "code",
   "execution_count": 72,
   "metadata": {},
   "outputs": [
    {
     "name": "stdout",
     "output_type": "stream",
     "text": [
      "1384/1384 [==============================]1384/1384 [==============================] - 1s 486us/step\n",
      "\n",
      "Accuracy: 95.30%\n"
     ]
    }
   ],
   "source": [
    "#Performance on Test-Set¶\n",
    "result = model.evaluate(x_test_pad, y_test)\n",
    "print(\"Accuracy: {0:.2%}\".format(result[1]))"
   ]
  },
  {
   "cell_type": "code",
   "execution_count": 73,
   "metadata": {},
   "outputs": [
    {
     "name": "stdout",
     "output_type": "stream",
     "text": [
      "Number of Mis-classified texts  50\n",
      "Index of first mis-classified text  15\n"
     ]
    }
   ],
   "source": [
    "#Predicted sentiment for the first 1000 texts in the test-set.\n",
    "y_pred = model.predict(x=x_test_pad[0:1000])\n",
    "y_pred = y_pred.T[0]\n",
    "\n",
    "#These predicted numbers fall between 0.0 and 1.0.\n",
    "#We use a cutoff / threshold and say that all values above 0.5 are taken to be 1.0\n",
    "cls_pred = np.array([1.0 if p>0.5 else 0.0 for p in y_pred])\n",
    "\n",
    "#The true \"class\" for the first 1000 texts in the test-set are needed for comparison.\n",
    "cls_true = np.array(y_test[0:1000])\n",
    "\n",
    "#We can then get indices for all the texts that were incorrectly classified by comparing all the \"classes\" of these two arrays.\n",
    "incorrect = np.where(cls_pred != cls_true)\n",
    "incorrect = incorrect[0]\n",
    "\n",
    "#Of the 1000 texts used, how many were mis-classified?\n",
    "print(\"Number of Mis-classified texts \", (len(incorrect)))\n",
    "\n",
    "#Let us look at the first mis-classified text.\n",
    "print(\"Index of first mis-classified text \", (incorrect[0]))\n",
    "idx = incorrect[0]"
   ]
  },
  {
   "cell_type": "code",
   "execution_count": 75,
   "metadata": {},
   "outputs": [
    {
     "name": "stdout",
     "output_type": "stream",
     "text": [
      "Predicted  label:  0.13240704\n",
      "True class label:  1\n",
      "                                                                      \n",
      "Misclassified text:  Harry Potter is brilliant.\n"
     ]
    }
   ],
   "source": [
    "#Predicted and true classes for the text:\n",
    "\n",
    "print(\"Predicted  label: \", (y_pred[idx]))\n",
    "print(\"True class label: \", (cls_true[idx]))\n",
    "print(\"                                                                      \")\n",
    "print(\"Misclassified text: \", (X_test[idx]))"
   ]
  },
  {
   "cell_type": "code",
   "execution_count": 98,
   "metadata": {},
   "outputs": [],
   "source": [
    "#Fitting our model on unlabelled text\n",
    "tokens = tokenizer.texts_to_sequences(unlabeltext.ravel())\n",
    "tokens_pad = pad_sequences(tokens, maxlen=max_tokens,\n",
    "                           padding=pad, truncating=pad)"
   ]
  },
  {
   "cell_type": "code",
   "execution_count": 99,
   "metadata": {},
   "outputs": [
    {
     "data": {
      "text/plain": [
       "array([[0.39652243],\n",
       "       [0.0953111 ],\n",
       "       [0.0953111 ],\n",
       "       ...,\n",
       "       [0.0953111 ],\n",
       "       [0.0953111 ],\n",
       "       [0.0953111 ]], dtype=float32)"
      ]
     },
     "execution_count": 99,
     "metadata": {},
     "output_type": "execute_result"
    }
   ],
   "source": [
    "model.predict(tokens_pad)"
   ]
  },
  {
   "cell_type": "code",
   "execution_count": 44,
   "metadata": {},
   "outputs": [],
   "source": [
    "#References:\n",
    "#This is an in-class contest hosted by University of Michigan SI650 (Information Retrieval)\n",
    "#https://www.kaggle.com/c/si650winter11/data\n",
    "#https://github.com/Hvass-Labs/TensorFlow-Tutorials/blob/master/20_Natural_Language_Processing.ipynb"
   ]
  },
  {
   "cell_type": "code",
   "execution_count": null,
   "metadata": {},
   "outputs": [],
   "source": []
  }
 ],
 "metadata": {
  "kernelspec": {
   "display_name": "Python 3",
   "language": "python",
   "name": "python3"
  },
  "language_info": {
   "codemirror_mode": {
    "name": "ipython",
    "version": 3
   },
   "file_extension": ".py",
   "mimetype": "text/x-python",
   "name": "python",
   "nbconvert_exporter": "python",
   "pygments_lexer": "ipython3",
   "version": "3.6.4"
  }
 },
 "nbformat": 4,
 "nbformat_minor": 2
}
